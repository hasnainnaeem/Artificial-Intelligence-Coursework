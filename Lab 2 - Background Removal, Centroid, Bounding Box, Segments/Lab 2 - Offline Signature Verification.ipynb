{
 "cells": [
  {
   "cell_type": "markdown",
   "metadata": {},
   "source": [
    "__Submitted by__: M. Hasnain Naeem (212728) from BSCS-7B, NUST\n",
    "# Lab 2 - Offline Signature Verification\n",
    "Introduction\n",
    "The purpose of this lab is to get familiar with offline signature verification and perform initial verification routines by extracting basic features.\n",
    "\n",
    "## Objectives\n",
    "After completing this lab, students will be able to understand how to:\n",
    "\n",
    "-\tProcess images in Python\n",
    "-\tExtract features from signatures\n",
    "\n",
    "## Software Tools/Requirements\n",
    "-\tSolutions should be made in Python\n",
    "-\tUse PIL or OpenCV\n",
    "\n",
    "## Prerequisites\n",
    "Before you begin working on this lab, make sure that you have:\n",
    "\n",
    "-\tSet up Python on your machine\n",
    "-\tInstalled either Python Imaging Library (PIL) or OpenCV.\n",
    "-\tDownloaded the 4NSigComp2010 dataset from http://www.iaprtc11.org/mediawiki/index.php/ICFHR_2010_Signature_Verification_Compet ition_(4NSigComp2010)\n",
    "\n",
    "## Lab Tasks\n",
    "Take one Ref signature from downloaded dataset1 and perform the following tasks:\n",
    "\n",
    "1.\tDevelop a bounding box around the signature content.\n",
    "2.\tFind out the centroid of the signature.\n",
    "3.\tSegment signature from centroid vertically and horizontally (the signature will be divided into four pieces)\n",
    "4.\tCalculate black to white transitions for each of the four segments.\n",
    "\n",
    "\n",
    "## Completion check\n",
    "On successful completion of the lab tasks, you should have the following:\n",
    "\n",
    "1.\t(left, cx, top, cy) are the boundaries of top-left segment\n",
    "2.\t(cx, right, top, cy) are the boundaries of top-right segment\n",
    "3.\t(left, cx, cy, bottom) are the boundaries of bottom-left segment\n",
    "4.\t(cx, right, cy, bottom) are the boundaries of bottom-right \n"
   ]
  },
  {
   "cell_type": "markdown",
   "metadata": {},
   "source": [
    "__Imports__"
   ]
  },
  {
   "cell_type": "code",
   "execution_count": 3,
   "metadata": {},
   "outputs": [],
   "source": [
    "from PIL import Image \n",
    "import os\n",
    "import numpy as np\n",
    "import cv2"
   ]
  },
  {
   "cell_type": "markdown",
   "metadata": {},
   "source": [
    "__Functions__"
   ]
  },
  {
   "cell_type": "code",
   "execution_count": 4,
   "metadata": {},
   "outputs": [],
   "source": [
    "def show_image(img):\n",
    "    # show image using OpenCV; extra lines are for jupyter notebook \n",
    "    cv2.imshow(\"Gray Image\", img)\n",
    "    cv2.waitKey(0)\n",
    "    cv2.destroyAllWindows()"
   ]
  },
  {
   "cell_type": "code",
   "execution_count": 2,
   "metadata": {},
   "outputs": [],
   "source": [
    "def bounded_box(bin_img):\n",
    "    width = bin_img.shape[1] - 1\n",
    "    height = bin_img.shape[0] - 1\n",
    "\n",
    "    left = width\n",
    "    right = 0\n",
    "    top = height\n",
    "    bottom = 0\n",
    "\n",
    "    for x in range(0, width):\n",
    "        for y in range(0, height):\n",
    "            color = bin_img[y, x]\n",
    "            if color == 0:\n",
    "                if x > right:\n",
    "                    right = x\n",
    "                if x < left:\n",
    "                    left = x\n",
    "                if y > bottom:\n",
    "                    bottom = y\n",
    "                if y < top:\n",
    "                    top = y\n",
    "                    \n",
    "                    \n",
    "    bounded_box_dims = (left, right, top, bottom)\n",
    "    bounded_img = bin_img[top: bottom, left:right]\n",
    "    return (bounded_img, bounded_box_dims)"
   ]
  },
  {
   "cell_type": "code",
   "execution_count": 1,
   "metadata": {},
   "outputs": [],
   "source": [
    "def draw_bounded_box(img, bounded_box_dims):\n",
    "    img_with_box = img\n",
    "    \n",
    "    for i in range(bounded_box_dims[0], bounded_box_dims[1] + 1):\n",
    "        img_with_box[bounded_box_dims[2]][i] = 0\n",
    "        img_with_box[bounded_box_dims[3]][i] = 0\n",
    "\n",
    "    for i in range(bounded_box_dims[2], bounded_box_dims[3] + 1):\n",
    "        img_with_box[i][bounded_box_dims[0]] = 0\n",
    "        img_with_box[i][bounded_box_dims[1]] = 0\n",
    "        \n",
    "    return img_with_box"
   ]
  },
  {
   "cell_type": "code",
   "execution_count": 18,
   "metadata": {},
   "outputs": [],
   "source": [
    "def centroid(bin_img):\n",
    "    width = bin_img.shape[1] - 1\n",
    "    height = bin_img.shape[0] - 1\n",
    "    cx = 0\n",
    "    cy = 0\n",
    "    n = 0\n",
    "    for x in range(0, width):\n",
    "        for y in range(0, height):\n",
    "            color = bin_img[y, x]\n",
    "            if color == 0:\n",
    "                cx = cx + x\n",
    "                cy = cy + y\n",
    "                n = n + 1\n",
    "    cx = cx // n\n",
    "    cy = cy // n\n",
    "    centroid_dims = (cx, cy)\n",
    "    return centroid_dims"
   ]
  },
  {
   "cell_type": "code",
   "execution_count": 7,
   "metadata": {},
   "outputs": [],
   "source": [
    "\n",
    "def segments(bin_img, centroid_dims, bounded_box_dims):\n",
    "    \"\"\"\n",
    "    Get 4 segments from a image.\n",
    "\n",
    "    Parameters:\n",
    "\n",
    "    big_img: binary image with 1 color channel\n",
    "    centroid: centroid tuple\n",
    "    bounded_box: bounding box tuple with arrangement: (left, right, top, bottom)\n",
    "\n",
    "    returns:\n",
    "\n",
    "    segment_imgs: list of segments\n",
    "    coordinates: list of coordinates of each segment\n",
    "    \"\"\"\n",
    "\n",
    "    (left, right, top, bottom) = bounded_box_dims\n",
    "    (cx, cy) = centroid_dims\n",
    "    # coordinates of image segment\n",
    "    top_left_coords = ((top, cy), (left, cx))\n",
    "    # image segment\n",
    "    top_left_seg = bin_img[top:cy + 1, left:cx + 1]\n",
    "    # similarly for other segments:\n",
    "    top_right_coords = ((top, cy), (cx, right))\n",
    "    top_right_seg = bin_img[top:cy + 1, cx:right + 1]\n",
    "\n",
    "    bottom_left_coords = ((cy, bottom), (left, cx))\n",
    "    bottom_left_seg = bin_img[cy:bottom + 1, left:cx + 1]\n",
    "\n",
    "    bottom_right_coords = ((cy, bottom), (cx, right))\n",
    "    bottom_right_seg = bin_img[cy:bottom + 1, cx:right + 1]\n",
    "\n",
    "    # list of segments\n",
    "    segment_imgs = (top_left_seg, top_right_seg, bottom_left_seg, bottom_right_seg)\n",
    "    # list of coordinates\n",
    "    coordinates = (top_left_coords, top_right_coords, bottom_left_coords, bottom_right_coords)\n",
    "\n",
    "    return segment_imgs, coordinates"
   ]
  },
  {
   "cell_type": "code",
   "execution_count": 6,
   "metadata": {},
   "outputs": [],
   "source": [
    "def draw_segment_lines(img, segment_coordinates):\n",
    "    (top_left_coords, top_right_coords, bottom_left_coords, bottom_right_coords) = segment_coordinates\n",
    "\n",
    "    img_with_lines = img\n",
    "    for i in range(top_left_coords[0][0], top_left_coords[0][1]):\n",
    "        img_with_lines[i][top_left_coords[1][1]] = 0\n",
    "\n",
    "    for i in range(bottom_left_coords[0][0], bottom_left_coords[0][1]):\n",
    "        img_with_lines[i][bottom_left_coords[1][1]] = 0\n",
    "\n",
    "    for i in range(top_left_coords[1][0], top_left_coords[1][1]):\n",
    "        img_with_lines[top_left_coords[0][1]][i] = 0\n",
    "\n",
    "    for i in range(bottom_right_coords[1][0], bottom_right_coords[1][1]):\n",
    "        img_with_lines[bottom_right_coords[0][0]][i] = 0\n",
    "\n",
    "    return img_with_lines"
   ]
  },
  {
   "cell_type": "code",
   "execution_count": 8,
   "metadata": {},
   "outputs": [],
   "source": [
    "def black_to_white_trans(img):\n",
    "    height = img.shape[0]\n",
    "    width = img.shape[1]\n",
    "\n",
    "    prev = img[0, 0]\n",
    "    n = 0\n",
    "    for x in range(1, width):\n",
    "        for y in range(1, height):\n",
    "            curr = img[y, x]\n",
    "            if curr == 1 and prev == 0:\n",
    "                n += 1\n",
    "            prev = curr\n",
    "    return n"
   ]
  },
  {
   "cell_type": "markdown",
   "metadata": {},
   "source": [
    "__Opening & Converting Given Signature to Binary Image__"
   ]
  },
  {
   "cell_type": "code",
   "execution_count": 9,
   "metadata": {},
   "outputs": [],
   "source": [
    "# creating image object \n",
    "sign_img = Image.open(r\"Files/sample_sign.jpg\") \n",
    "  \n",
    "# using 8-bit pixel convertion to b&w\n",
    "sign_img_l = sign_img.convert(\"L\") \n",
    "\n",
    "sign_img_l.save(r\"Files/sample_sign_bw.jpg\")"
   ]
  },
  {
   "cell_type": "code",
   "execution_count": 10,
   "metadata": {},
   "outputs": [
    {
     "name": "stdout",
     "output_type": "stream",
     "text": [
      "Shape of image:\n",
      "(291, 318)\n"
     ]
    }
   ],
   "source": [
    "file_dir = \"Files/\"\n",
    "\n",
    "# open file and convert to grey scale\n",
    "filename = os.path.join(file_dir, \"sample_sign_bw.jpg\")\n",
    "img = cv2.imread(filename)[:,:,0] # keep only one color dimension\n",
    "\n",
    "print(\"Shape of image:\")\n",
    "print(img.shape)\n",
    "# show_image(img)"
   ]
  },
  {
   "cell_type": "code",
   "execution_count": 11,
   "metadata": {},
   "outputs": [],
   "source": [
    "# normalize\n",
    "img = img/255\n",
    "show_image(img)"
   ]
  },
  {
   "cell_type": "code",
   "execution_count": 13,
   "metadata": {},
   "outputs": [
    {
     "name": "stdout",
     "output_type": "stream",
     "text": [
      "Using matplotlib backend: Qt5Agg\n"
     ]
    }
   ],
   "source": [
    "hist, bin_edges = np.histogram(img)\n",
    "import matplotlib.pyplot as plt\n",
    "%matplotlib\n",
    "plt.bar(bin_edges[:-1], hist, width = 1)\n",
    "plt.xlim(min(bin_edges), max(bin_edges))\n",
    "plt.show() "
   ]
  },
  {
   "cell_type": "code",
   "execution_count": 14,
   "metadata": {},
   "outputs": [],
   "source": [
    "# convert to black & white\n",
    "img[img > .5] = 1\n",
    "img[img != 1] = 0"
   ]
  },
  {
   "cell_type": "markdown",
   "metadata": {},
   "source": [
    "## Task 1 - Finding Bounding Box"
   ]
  },
  {
   "cell_type": "code",
   "execution_count": 16,
   "metadata": {},
   "outputs": [],
   "source": [
    "bounded_img, bounded_box_dims = bounded_box(img)\n",
    "show_image(bounded_img)\n",
    "\n",
    "# find and show image with bounding box\n",
    "img_with_box = draw_bounded_box(img, bounded_box_dims)\n",
    "show_image(img_with_box)"
   ]
  },
  {
   "cell_type": "markdown",
   "metadata": {},
   "source": [
    "## Task 2 - Finding Centroid"
   ]
  },
  {
   "cell_type": "code",
   "execution_count": 19,
   "metadata": {},
   "outputs": [
    {
     "name": "stdout",
     "output_type": "stream",
     "text": [
      "Centroid is: (140, 190)\n"
     ]
    }
   ],
   "source": [
    "centroid_dims = centroid(img)\n",
    "cx, cy = centroid_dims\n",
    "print(\"Centroid is: ({0}, {1})\".format(cx, cy))"
   ]
  },
  {
   "cell_type": "markdown",
   "metadata": {},
   "source": [
    "## Task 3 - Getting Image Segments"
   ]
  },
  {
   "cell_type": "code",
   "execution_count": 20,
   "metadata": {},
   "outputs": [],
   "source": [
    "# get list of segment images & their coordinates in original image\n",
    "segment_imgs, coordinates = segments(img, centroid_dims, bounded_box_dims)\n",
    "\n",
    "img_with_lines = draw_segment_lines(img, coordinates)\n",
    "show_image(img_with_lines)\n",
    "\n",
    "show_image(segment_imgs[0])  # top left\n",
    "show_image(segment_imgs[1])  # top right\n",
    "show_image(segment_imgs[2])  # bottom left\n",
    "show_image(segment_imgs[3])  # bottom right"
   ]
  },
  {
   "cell_type": "markdown",
   "metadata": {},
   "source": [
    "## Calculating the Black to White Transitions"
   ]
  },
  {
   "cell_type": "code",
   "execution_count": 21,
   "metadata": {},
   "outputs": [
    {
     "name": "stdout",
     "output_type": "stream",
     "text": [
      "Tansitions in TL: 192\n",
      "Tansitions in TR: 306\n",
      "Tansitions in BL: 352\n",
      "Tansitions in BR: 229\n",
      "\n"
     ]
    }
   ],
   "source": [
    "tl_trans = black_to_white_trans(segment_imgs[0])\n",
    "print(\"Tansitions in TL: {0}\".format(tl_trans))\n",
    "tr_trans = black_to_white_trans(segment_imgs[1])\n",
    "print(\"Tansitions in TR: {0}\".format(tr_trans))\n",
    "bl_trans = black_to_white_trans(segment_imgs[2])\n",
    "print(\"Tansitions in BL: {0}\".format(bl_trans))\n",
    "br_trans = black_to_white_trans(segment_imgs[3])\n",
    "print(\"Tansitions in BR: {0}\".format(br_trans))\n",
    "\n",
    "T = (tl_trans, tr_trans, bl_trans, br_trans)\n",
    "print()"
   ]
  },
  {
   "cell_type": "markdown",
   "metadata": {},
   "source": [
    "## Results"
   ]
  },
  {
   "cell_type": "code",
   "execution_count": 22,
   "metadata": {},
   "outputs": [
    {
     "name": "stdout",
     "output_type": "stream",
     "text": [
      "Value of B: (51, 265, 127, 262)\n",
      "Value of C: (140, 190)\n",
      "Value of T: (192, 306, 352, 229)\n"
     ]
    }
   ],
   "source": [
    "# Printing results of all tasks\n",
    "print(\"Value of B: \" + str(bounded_box_dims))\n",
    "print(\"Value of C: \" + str(centroid_dims))\n",
    "print(\"Value of T: \" + str(T))"
   ]
  }
 ],
 "metadata": {
  "hide_input": false,
  "kernelspec": {
   "display_name": "Python 3",
   "language": "python",
   "name": "python3"
  },
  "language_info": {
   "codemirror_mode": {
    "name": "ipython",
    "version": 3
   },
   "file_extension": ".py",
   "mimetype": "text/x-python",
   "name": "python",
   "nbconvert_exporter": "python",
   "pygments_lexer": "ipython3",
   "version": "3.7.3"
  },
  "toc": {
   "base_numbering": 1,
   "nav_menu": {},
   "number_sections": true,
   "sideBar": true,
   "skip_h1_title": false,
   "title_cell": "Table of Contents",
   "title_sidebar": "Contents",
   "toc_cell": false,
   "toc_position": {},
   "toc_section_display": true,
   "toc_window_display": false
  },
  "varInspector": {
   "cols": {
    "lenName": 16,
    "lenType": 16,
    "lenVar": 40
   },
   "kernels_config": {
    "python": {
     "delete_cmd_postfix": "",
     "delete_cmd_prefix": "del ",
     "library": "var_list.py",
     "varRefreshCmd": "print(var_dic_list())"
    },
    "r": {
     "delete_cmd_postfix": ") ",
     "delete_cmd_prefix": "rm(",
     "library": "var_list.r",
     "varRefreshCmd": "cat(var_dic_list()) "
    }
   },
   "types_to_exclude": [
    "module",
    "function",
    "builtin_function_or_method",
    "instance",
    "_Feature"
   ],
   "window_display": false
  }
 },
 "nbformat": 4,
 "nbformat_minor": 2
}
