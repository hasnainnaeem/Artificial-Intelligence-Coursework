{
 "cells": [
  {
   "cell_type": "markdown",
   "metadata": {},
   "source": [
    "# AI Lab 9 - Decision Trees from Scratch\n",
    "__By Hasnain Naeem (212728), BSCS-7B, NUST__\n",
    "\n",
    "__Description__: Decision Trees implementation from scratch using Numpy and Pandas. Although binary classification is demonstrated but it works for more than 2 classes. "
   ]
  },
  {
   "cell_type": "markdown",
   "metadata": {},
   "source": [
    "## Imports"
   ]
  },
  {
   "cell_type": "code",
   "execution_count": 41,
   "metadata": {
    "ExecuteTime": {
     "end_time": "2020-04-04T18:19:24.293146Z",
     "start_time": "2020-04-04T18:19:24.283250Z"
    }
   },
   "outputs": [],
   "source": [
    "from collections import Counter, defaultdict\n",
    "from functools import partial\n",
    "import math, random"
   ]
  },
  {
   "cell_type": "markdown",
   "metadata": {},
   "source": [
    "## Training Set"
   ]
  },
  {
   "cell_type": "code",
   "execution_count": 53,
   "metadata": {
    "ExecuteTime": {
     "end_time": "2020-04-04T18:55:37.375120Z",
     "start_time": "2020-04-04T18:55:36.372174Z"
    }
   },
   "outputs": [],
   "source": [
    "training_set = [\n",
    "        ({'outlook':'rainy','temp':'hot','humidity':'high','windy':'no'},   False),\n",
    "        ({'outlook':'rainy','temp':'hot','humidity':'high','windy':'yes'},  False),\n",
    "        ({'outlook':'overcast','temp':'hot','humidity':'high','windy':'no'},     True),\n",
    "        ({'outlook':'sunny','temp':'mild','humidity':'high','windy':'no'},  True),\n",
    "        ({'outlook':'sunny','temp':'cool','humidity':'normal','windy':'no'},      True),\n",
    "        ({'outlook':'sunny','temp':'cool','humidity':'normal','windy':'yes'},    False),\n",
    "        ({'outlook':'overcast','temp':'cool','humidity':'normal','windy':'yes'},        True),\n",
    "        ({'outlook':'rainy','temp':'mild','humidity':'high','windy':'no'}, False),\n",
    "        ({'outlook':'rainy','temp':'cool','humidity':'normal','windy':'no'},      True),\n",
    "        ({'outlook':'sunny','temp':'mild','humidity':'normal','windy':'no'}, True),\n",
    "        ({'outlook':'rainy','temp':'mild','humidity':'normal','windy':'yes'},True),\n",
    "        ({'outlook':'overcast','temp':'mild','humidity':'high','windy':'yes'},    True),\n",
    "        ({'outlook':'overcast','temp':'hot','humidity':'normal','windy':'no'},      True),\n",
    "        ({'outlook':'sunny','temp':'mild','humidity':'high','windy':'yes'}, False)\n",
    "    ]"
   ]
  },
  {
   "cell_type": "markdown",
   "metadata": {},
   "source": [
    "## Implementing Functions for Decision Trees"
   ]
  },
  {
   "cell_type": "code",
   "execution_count": 42,
   "metadata": {
    "ExecuteTime": {
     "end_time": "2020-04-04T18:55:36.318669Z",
     "start_time": "2020-04-04T18:55:34.661574Z"
    }
   },
   "outputs": [],
   "source": [
    "def entropy(class_probabilities):\n",
    "    \"\"\"given a list of class probabilities, compute the entropy\"\"\"\n",
    "    return sum(-p * math.log(p, 2) for p in class_probabilities if p)\n",
    "\n",
    "def class_probabilities(labels):\n",
    "    total_count = len(labels)\n",
    "    return [count / total_count\n",
    "            for count in Counter(labels).values()]\n",
    "\n",
    "def data_entropy(labeled_data):\n",
    "    labels = [label for _, label in labeled_data]\n",
    "    probabilities = class_probabilities(labels)\n",
    "    return entropy(probabilities)\n",
    "\n",
    "def partition_entropy(subsets):\n",
    "    \"\"\"find the entropy from this partition of data into subsets\"\"\"\n",
    "    total_count = sum(len(subset) for subset in subsets)\n",
    "\n",
    "    return sum( data_entropy(subset) * len(subset) / total_count\n",
    "                for subset in subsets )\n",
    "\n",
    "def group_by(items, key_fn):\n",
    "    \"\"\"returns a defaultdict(list), where each input item\n",
    "    is in the list whose key is key_fn(item)\"\"\"\n",
    "    groups = defaultdict(list)\n",
    "    for item in items:\n",
    "        key = key_fn(item)\n",
    "        groups[key].append(item)\n",
    "    return groups\n",
    "\n",
    "def partition_by(inputs, attribute):\n",
    "    \"\"\"returns a dict of inputs partitioned by the attribute\n",
    "    each input is a pair (attribute_dict, label)\"\"\"\n",
    "    return group_by(inputs, lambda x: x[0][attribute])\n",
    "\n",
    "def partition_entropy_by(inputs,attribute):\n",
    "    \"\"\"computes the entropy corresponding to the given partition\"\"\"\n",
    "    partitions = partition_by(inputs, attribute)\n",
    "    return partition_entropy(partitions.values())\n",
    "\n",
    "def classify(tree, input):\n",
    "    \"\"\"classify the input using the given decision tree\"\"\"\n",
    "\n",
    "    # if this is a leaf node, return its value\n",
    "    if tree in [True, False]:\n",
    "        return tree\n",
    "\n",
    "    # otherwise find the correct subtree\n",
    "    attribute, subtree_dict = tree\n",
    "\n",
    "    subtree_key = input.get(attribute)  # None if input is missing attribute\n",
    "\n",
    "    if subtree_key not in subtree_dict: # if no subtree for key,\n",
    "        subtree_key = None              # we'll use the None subtree\n",
    "\n",
    "    subtree = subtree_dict[subtree_key] # choose the appropriate subtree\n",
    "    return classify(subtree, input)     # and use it to classify the input\n",
    "\n",
    "def build_tree_id3(inputs, split_candidates=None):\n",
    "\n",
    "    # if this is our first pass,\n",
    "    # all keys of the first input are split candidates\n",
    "    if split_candidates is None:\n",
    "        split_candidates = inputs[0][0].keys()\n",
    "\n",
    "    # count Trues and Falses in the inputs\n",
    "    num_inputs = len(inputs)\n",
    "    num_trues = len([label for item, label in inputs if label])\n",
    "    num_falses = num_inputs - num_trues\n",
    "\n",
    "    if num_trues == 0:                  # if only Falses are left\n",
    "        return False                    # return a \"False\" leaf\n",
    "\n",
    "    if num_falses == 0:                 # if only Trues are left\n",
    "        return True                     # return a \"True\" leaf\n",
    "\n",
    "    if not split_candidates:            # if no split candidates left\n",
    "        return num_trues >= num_falses  # return the majority leaf\n",
    "\n",
    "    # otherwise, split on the best attribute\n",
    "    best_attribute = min(split_candidates,\n",
    "        key=partial(partition_entropy_by, inputs))\n",
    "\n",
    "    partitions = partition_by(inputs, best_attribute)\n",
    "    new_candidates = [a for a in split_candidates\n",
    "                      if a != best_attribute]\n",
    "\n",
    "    # recursively build the subtrees\n",
    "    subtrees = { attribute : build_tree_id3(subset, new_candidates)\n",
    "                 for attribute, subset in partitions.items() }\n",
    "\n",
    "    subtrees[None] = num_trues > num_falses # default case\n",
    "\n",
    "    return (best_attribute, subtrees)\n",
    "\n",
    "def forest_classify(trees, input):\n",
    "    votes = [classify(tree, input) for tree in trees]\n",
    "    vote_counts = Counter(votes)\n",
    "    return vote_counts.most_common(1)[0][0]"
   ]
  },
  {
   "cell_type": "markdown",
   "metadata": {},
   "source": [
    "## Training"
   ]
  },
  {
   "cell_type": "code",
   "execution_count": 44,
   "metadata": {
    "ExecuteTime": {
     "end_time": "2020-04-04T18:55:37.443190Z",
     "start_time": "2020-04-04T18:55:37.425822Z"
    }
   },
   "outputs": [
    {
     "name": "stdout",
     "output_type": "stream",
     "text": [
      "Constructed Tree:\n",
      "('outlook', {'rainy': ('humidity', {'high': False, 'normal': True, None: False}), 'overcast': True, 'sunny': ('windy', {'no': True, 'yes': False, None: True}), None: True})\n"
     ]
    }
   ],
   "source": [
    "print(\"Constructed Tree:\")\n",
    "tree = build_tree_id3(inputs)\n",
    "print(tree)"
   ]
  },
  {
   "cell_type": "markdown",
   "metadata": {
    "ExecuteTime": {
     "end_time": "2020-04-04T18:55:37.514426Z",
     "start_time": "2020-04-04T18:55:37.498417Z"
    }
   },
   "source": [
    "## Test Set"
   ]
  },
  {
   "cell_type": "code",
   "execution_count": 55,
   "metadata": {
    "ExecuteTime": {
     "end_time": "2020-04-04T18:55:37.588516Z",
     "start_time": "2020-04-04T18:55:37.517899Z"
    }
   },
   "outputs": [],
   "source": [
    "test_set = [\n",
    "    {'outlook':'sunny','temp':'cool','humidity':'high','windy':'no'}, \n",
    "    {'outlook':'overcast','temp':'mild','humidity':'normal','windy':'yes'}, \n",
    "    {'outlook':'rainy','temp':'hot','humidity':'normal','windy':'yes'},\n",
    "    {'outlook':'overcast','temp':'cool','humidity':'high','windy':'yes'}\n",
    "]"
   ]
  },
  {
   "cell_type": "markdown",
   "metadata": {
    "ExecuteTime": {
     "end_time": "2020-04-04T19:03:11.663948Z",
     "start_time": "2020-04-04T19:03:11.539831Z"
    },
    "scrolled": false
   },
   "source": [
    "## Testing"
   ]
  },
  {
   "cell_type": "code",
   "execution_count": 56,
   "metadata": {
    "ExecuteTime": {
     "end_time": "2020-04-04T19:03:46.526959Z",
     "start_time": "2020-04-04T19:03:46.514011Z"
    }
   },
   "outputs": [
    {
     "name": "stdout",
     "output_type": "stream",
     "text": [
      "Making prediction instance # 0:\n",
      "\tPrediction: True\n",
      "\n",
      "Making prediction instance # 1:\n",
      "\tPrediction: True\n",
      "\n",
      "Making prediction instance # 2:\n",
      "\tPrediction: True\n",
      "\n",
      "Making prediction instance # 3:\n",
      "\tPrediction: True\n",
      "\n"
     ]
    }
   ],
   "source": [
    "new_training_set = []\n",
    "for i, instance in enumerate(test_set):\n",
    "    print(\"Making prediction instance # \"+str(i)+\":\")\n",
    "    prediction = classify(tree, instance)\n",
    "    new_training_set.append((instance, prediction))\n",
    "    print(\"\\tPrediction: \" + str(prediction))\n",
    "    print()"
   ]
  },
  {
   "cell_type": "markdown",
   "metadata": {},
   "source": [
    "## Extend Training Set with Test Set Predictions"
   ]
  },
  {
   "cell_type": "code",
   "execution_count": 59,
   "metadata": {},
   "outputs": [],
   "source": [
    "training_set.extend(new_training_set)"
   ]
  },
  {
   "cell_type": "markdown",
   "metadata": {},
   "source": [
    "## Build New Tree"
   ]
  },
  {
   "cell_type": "code",
   "execution_count": 62,
   "metadata": {},
   "outputs": [
    {
     "name": "stdout",
     "output_type": "stream",
     "text": [
      "Constructed Tree:\n",
      "('outlook', {'rainy': ('humidity', {'high': False, 'normal': True, None: False}), 'overcast': True, 'sunny': ('windy', {'no': True, 'yes': False, None: True}), None: True})\n"
     ]
    }
   ],
   "source": [
    "print(\"Constructed Tree:\")\n",
    "tree = build_tree_id3(training_set)\n",
    "print(tree)"
   ]
  },
  {
   "cell_type": "markdown",
   "metadata": {},
   "source": [
    "## Making Prediction Again"
   ]
  },
  {
   "cell_type": "code",
   "execution_count": 64,
   "metadata": {},
   "outputs": [
    {
     "name": "stdout",
     "output_type": "stream",
     "text": [
      "Prediction: True\n"
     ]
    }
   ],
   "source": [
    "final_test_instance = {'outlook':'sunny','temp':'cool','humidity':'high','windy':'no'}\n",
    "prediction = classify(tree, instance)\n",
    "print(\"Prediction: \" + str(prediction))"
   ]
  },
  {
   "cell_type": "code",
   "execution_count": null,
   "metadata": {},
   "outputs": [],
   "source": []
  }
 ],
 "metadata": {
  "hide_input": false,
  "kernelspec": {
   "display_name": "Python 3",
   "language": "python",
   "name": "python3"
  },
  "language_info": {
   "codemirror_mode": {
    "name": "ipython",
    "version": 3
   },
   "file_extension": ".py",
   "mimetype": "text/x-python",
   "name": "python",
   "nbconvert_exporter": "python",
   "pygments_lexer": "ipython3",
   "version": "3.7.3"
  },
  "toc": {
   "base_numbering": 1,
   "nav_menu": {},
   "number_sections": true,
   "sideBar": true,
   "skip_h1_title": false,
   "title_cell": "Table of Contents",
   "title_sidebar": "Contents",
   "toc_cell": false,
   "toc_position": {},
   "toc_section_display": true,
   "toc_window_display": false
  },
  "varInspector": {
   "cols": {
    "lenName": 16,
    "lenType": 16,
    "lenVar": 40
   },
   "kernels_config": {
    "python": {
     "delete_cmd_postfix": "",
     "delete_cmd_prefix": "del ",
     "library": "var_list.py",
     "varRefreshCmd": "print(var_dic_list())"
    },
    "r": {
     "delete_cmd_postfix": ") ",
     "delete_cmd_prefix": "rm(",
     "library": "var_list.r",
     "varRefreshCmd": "cat(var_dic_list()) "
    }
   },
   "types_to_exclude": [
    "module",
    "function",
    "builtin_function_or_method",
    "instance",
    "_Feature"
   ],
   "window_display": false
  }
 },
 "nbformat": 4,
 "nbformat_minor": 4
}
