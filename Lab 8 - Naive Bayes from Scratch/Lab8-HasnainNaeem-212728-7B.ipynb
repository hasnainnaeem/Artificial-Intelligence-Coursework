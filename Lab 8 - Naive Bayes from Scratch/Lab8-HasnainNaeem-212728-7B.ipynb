{
 "cells": [
  {
   "cell_type": "markdown",
   "metadata": {},
   "source": [
    "# AI Lab 8 - Naive Bayes from Scratch\n",
    "__By Hasnain Naeem (212728), BSCS-7B, NUST__\n",
    "\n",
    "__Description__: Naive bayes implementation from scratch using Numpy and Pandas. Although binary classification is demonstrated but it works for more than 2 classes. "
   ]
  },
  {
   "cell_type": "markdown",
   "metadata": {},
   "source": [
    "## Imports"
   ]
  },
  {
   "cell_type": "code",
   "execution_count": 40,
   "metadata": {
    "ExecuteTime": {
     "end_time": "2020-03-26T15:58:57.217496Z",
     "start_time": "2020-03-26T15:58:57.210600Z"
    }
   },
   "outputs": [],
   "source": [
    "from tabulate import tabulate\n",
    "import numpy as np\n",
    "import pandas as pd"
   ]
  },
  {
   "cell_type": "markdown",
   "metadata": {},
   "source": [
    "## Defining Training Set Dataframe"
   ]
  },
  {
   "cell_type": "code",
   "execution_count": 41,
   "metadata": {
    "ExecuteTime": {
     "end_time": "2020-03-26T15:58:57.506228Z",
     "start_time": "2020-03-26T15:58:57.499170Z"
    }
   },
   "outputs": [],
   "source": [
    "# dataframe columns\n",
    "column_names=[\"department\", \"status\", \"age\", \"salary\"]\n",
    "\n",
    "# define dataframe data\n",
    "age_groups = {\"A\": \"21-25\", \"B\": \"26-30\", \"C\": \"31-35\", \"D\": \"36-40\", \n",
    "\"E\": \"41-45\", \"F\": \"46-50\"}\n",
    "\n",
    "salary_groups = {\"A\": \"26-30\", \"B\": \"31-35\", \"C\": \"36-40\", \"D\": \"41-45\",\n",
    "\"E\": \"46-50\", \"F\": \"51-55\", \"G\": \"56-60\", \"H\": \"61-65\", \"I\": \"66-70\"}\n",
    "\n",
    "data = {\"department\": [\"sales\", \"sales\", \"sales\", \"systems\", \"systems\",\n",
    "                        \"systems\", \"systems\", \"marketing\", \"marketing\",\n",
    "                        \"secretary\", \"secretary\"],\n",
    "        \"status\":     [\"senior\", \"junior\", \"junior\", \"junior\", \"senior\",\n",
    "                       \"junior\", \"senior\", \"senior\", \"junior\", \"senior\",\n",
    "                       \"junior\"],\n",
    "        \"age\":        [\"C\", \"B\", \"C\", \"A\", \"C\", \"B\", \"E\", \"D\", \"C\", \"F\", \"B\"],\n",
    "        \"salary\":     [\"E\", \"A\", \"B\", \"E\", \"I\", \"E\", \"I\", \"E\", \"D\", \"C\", \"A\"]\n",
    "        }\n",
    "                 \n",
    "# create dataframe\n",
    "df = pd.DataFrame(data)"
   ]
  },
  {
   "cell_type": "code",
   "execution_count": 42,
   "metadata": {
    "ExecuteTime": {
     "end_time": "2020-03-26T15:58:57.626695Z",
     "start_time": "2020-03-26T15:58:57.619858Z"
    }
   },
   "outputs": [
    {
     "name": "stdout",
     "output_type": "stream",
     "text": [
      "Training Set:\n",
      "--  ---------  ------  -  -\n",
      " 0  sales      senior  C  E\n",
      " 1  sales      junior  B  A\n",
      " 2  sales      junior  C  B\n",
      " 3  systems    junior  A  E\n",
      " 4  systems    senior  C  I\n",
      " 5  systems    junior  B  E\n",
      " 6  systems    senior  E  I\n",
      " 7  marketing  senior  D  E\n",
      " 8  marketing  junior  C  D\n",
      " 9  secretary  senior  F  C\n",
      "10  secretary  junior  B  A\n",
      "--  ---------  ------  -  -\n"
     ]
    }
   ],
   "source": [
    "print(\"Training Set:\")\n",
    "print(tabulate(df))"
   ]
  },
  {
   "cell_type": "markdown",
   "metadata": {},
   "source": [
    "## Naive Bayes Implementation"
   ]
  },
  {
   "cell_type": "code",
   "execution_count": 43,
   "metadata": {
    "ExecuteTime": {
     "end_time": "2020-03-26T15:58:57.922608Z",
     "start_time": "2020-03-26T15:58:57.914950Z"
    }
   },
   "outputs": [],
   "source": [
    "def get_feature_table(feature_name, feature_column, label_column, pc=0):\n",
    "    \"\"\"\n",
    "        Takes the feature column and label column to calculate the probability tables.\n",
    "        Parameters:\n",
    "        pc: pseudocount constant used for laplace smoothing\n",
    "    \n",
    "    \"\"\"\n",
    "    \n",
    "    # get column names for the feature dataframe\n",
    "    label_values = list(label_column.unique())\n",
    "    feature_df_cols = label_values.copy()\n",
    "    # get list of column names as: feature_name, label values...\n",
    "    feature_df_cols.insert(0, feature_name)\n",
    "    \n",
    "    feature_values = feature_column.unique()\n",
    "    feature_table = pd.DataFrame([[feature_val, 0, 0] for feature_val in feature_values], columns=feature_df_cols)\n",
    "    feature_table = feature_table.set_index(feature_name)    \n",
    "    \n",
    "    # fill the feature table with the counts of each feature value\n",
    "    label_count = {label_value: 0 for label_value in label_values}\n",
    "    # count the values\n",
    "    for i, feature_value in feature_column.iteritems():\n",
    "        feature_table[label_column[i]][feature_value] = feature_table[label_column[i]][feature_value] + 1\n",
    "        label_count[label_column[i]] += 1\n",
    "    \n",
    "    # divide to get probabilities\n",
    "    for label_value in label_values:\n",
    "        feature_table[label_value] = (feature_table[label_value] + pc) / (label_count[label_value] + (pc * len(label_values)))\n",
    "        \n",
    "    return feature_table"
   ]
  },
  {
   "cell_type": "code",
   "execution_count": 44,
   "metadata": {
    "ExecuteTime": {
     "end_time": "2020-03-26T15:58:58.043468Z",
     "start_time": "2020-03-26T15:58:58.032748Z"
    }
   },
   "outputs": [],
   "source": [
    "# select the feature to be predicted;\n",
    "label_class = \"status\"\n",
    "\n",
    "# column containing the values of the label class\n",
    "label_column = df[label_class]\n",
    "\n",
    "# get the prior probabilities of values of each label class\n",
    "label_counts = label_column.value_counts()\n",
    "label_prob = label_counts / label_column.size\n",
    "\n",
    "label_classes = [label_class for label_class, _ in label_prob.iteritems()]\n",
    "\n",
    "# get the prior probabilties of features\n",
    "feature_prior_prob = {column_name:None for column_name in column_names}\n",
    "for feature_name, feature_val_prior_prob in feature_prior_prob.items():\n",
    "    val_counts = df[feature_name].value_counts()\n",
    "    val_prob = val_counts / label_column.size\n",
    "    feature_prior_prob[feature_name] = val_prob"
   ]
  },
  {
   "cell_type": "markdown",
   "metadata": {},
   "source": [
    "### Calculate Feature Tables without Laplace Smoothing"
   ]
  },
  {
   "cell_type": "code",
   "execution_count": 45,
   "metadata": {
    "ExecuteTime": {
     "end_time": "2020-03-26T15:58:58.338997Z",
     "start_time": "2020-03-26T15:58:58.318208Z"
    }
   },
   "outputs": [],
   "source": [
    "# generate the probability tables for each feature\n",
    "feature_tables = {}\n",
    "for col_name, col_data in df.iteritems():\n",
    "    feature_table = get_feature_table(col_name, col_data, label_column)\n",
    "    feature_tables[col_name] = feature_table"
   ]
  },
  {
   "cell_type": "code",
   "execution_count": 46,
   "metadata": {
    "ExecuteTime": {
     "end_time": "2020-03-26T15:58:58.444694Z",
     "start_time": "2020-03-26T15:58:58.435204Z"
    }
   },
   "outputs": [
    {
     "name": "stdout",
     "output_type": "stream",
     "text": [
      "Feature Tables\n",
      "_______________\n",
      "\n",
      "Feature Name: department\n",
      "Feature Table:\n",
      "---------  ---  --------\n",
      "sales      0.2  0.333333\n",
      "systems    0.4  0.333333\n",
      "marketing  0.2  0.166667\n",
      "secretary  0.2  0.166667\n",
      "---------  ---  --------\n",
      "\n",
      "Feature Name: status\n",
      "Feature Table:\n",
      "------  -  -\n",
      "senior  1  0\n",
      "junior  0  1\n",
      "------  -  -\n",
      "\n",
      "Feature Name: age\n",
      "Feature Table:\n",
      "-  ---  --------\n",
      "C  0.4  0.333333\n",
      "B  0    0.5\n",
      "A  0    0.166667\n",
      "E  0.2  0\n",
      "D  0.2  0\n",
      "F  0.2  0\n",
      "-  ---  --------\n",
      "\n",
      "Feature Name: salary\n",
      "Feature Table:\n",
      "-  ---  --------\n",
      "E  0.4  0.333333\n",
      "A  0    0.333333\n",
      "B  0    0.166667\n",
      "I  0.4  0\n",
      "D  0    0.166667\n",
      "C  0.2  0\n",
      "-  ---  --------\n",
      "\n"
     ]
    }
   ],
   "source": [
    "print(\"Feature Tables\")\n",
    "print(\"_______________\\n\")\n",
    "for feature_name, feature_table in feature_tables.items():\n",
    "    print(\"Feature Name: \"+feature_name)\n",
    "    print(\"Feature Table:\")\n",
    "    print(tabulate(feature_table))\n",
    "    print()"
   ]
  },
  {
   "cell_type": "markdown",
   "metadata": {},
   "source": [
    "### Calculate Feature Tables with Laplace Smoothing"
   ]
  },
  {
   "cell_type": "code",
   "execution_count": 47,
   "metadata": {
    "ExecuteTime": {
     "end_time": "2020-03-26T15:58:58.719972Z",
     "start_time": "2020-03-26T15:58:58.699043Z"
    }
   },
   "outputs": [],
   "source": [
    "# generate the probability tables for each feature\n",
    "feature_tables_with_ls = {}\n",
    "for col_name, col_data in df.iteritems():\n",
    "    feature_table = get_feature_table(col_name, col_data, label_column, pc=1) # using pseudocount = 1\n",
    "    feature_tables_with_ls[col_name] = feature_table"
   ]
  },
  {
   "cell_type": "code",
   "execution_count": 48,
   "metadata": {
    "ExecuteTime": {
     "end_time": "2020-03-26T15:58:58.858714Z",
     "start_time": "2020-03-26T15:58:58.850276Z"
    }
   },
   "outputs": [
    {
     "name": "stdout",
     "output_type": "stream",
     "text": [
      "Feature Tables\n",
      "_______________\n",
      "\n",
      "Feature Name: department\n",
      "Feature Table:\n",
      "---------  --------  -----\n",
      "sales      0.285714  0.375\n",
      "systems    0.428571  0.375\n",
      "marketing  0.285714  0.25\n",
      "secretary  0.285714  0.25\n",
      "---------  --------  -----\n",
      "\n",
      "Feature Name: status\n",
      "Feature Table:\n",
      "------  --------  -----\n",
      "senior  0.857143  0.125\n",
      "junior  0.142857  0.875\n",
      "------  --------  -----\n",
      "\n",
      "Feature Name: age\n",
      "Feature Table:\n",
      "-  --------  -----\n",
      "C  0.428571  0.375\n",
      "B  0.142857  0.5\n",
      "A  0.142857  0.25\n",
      "E  0.285714  0.125\n",
      "D  0.285714  0.125\n",
      "F  0.285714  0.125\n",
      "-  --------  -----\n",
      "\n",
      "Feature Name: salary\n",
      "Feature Table:\n",
      "-  --------  -----\n",
      "E  0.428571  0.375\n",
      "A  0.142857  0.375\n",
      "B  0.142857  0.25\n",
      "I  0.428571  0.125\n",
      "D  0.142857  0.25\n",
      "C  0.285714  0.125\n",
      "-  --------  -----\n",
      "\n"
     ]
    }
   ],
   "source": [
    "print(\"Feature Tables\")\n",
    "print(\"_______________\\n\")\n",
    "for feature_name, feature_table in feature_tables_with_ls.items():\n",
    "    print(\"Feature Name: \"+feature_name)\n",
    "    print(\"Feature Table:\")\n",
    "    print(tabulate(feature_table))\n",
    "    print()"
   ]
  },
  {
   "cell_type": "markdown",
   "metadata": {},
   "source": [
    "## Defining Test Set Dataframe"
   ]
  },
  {
   "cell_type": "code",
   "execution_count": 49,
   "metadata": {
    "ExecuteTime": {
     "end_time": "2020-03-26T15:58:59.114825Z",
     "start_time": "2020-03-26T15:58:59.107297Z"
    }
   },
   "outputs": [
    {
     "name": "stdout",
     "output_type": "stream",
     "text": [
      "Test Set:\n",
      "-  ---------  -  -\n",
      "0  marketing  C  E\n",
      "1  sales      C  I\n",
      "-  ---------  -  -\n"
     ]
    }
   ],
   "source": [
    "test_rows = [\n",
    "    [\"marketing\", \"C\", \"E\"],\n",
    "    [\"sales\", \"C\", \"I\"]\n",
    "]\n",
    "\n",
    "test_columns = column_names.copy()\n",
    "test_columns.remove(label_class)\n",
    "test_df = pd.DataFrame(test_rows, columns=test_columns)\n",
    "print(\"Test Set:\")\n",
    "print(tabulate(test_df))"
   ]
  },
  {
   "cell_type": "markdown",
   "metadata": {},
   "source": [
    "## Making Predictions"
   ]
  },
  {
   "cell_type": "code",
   "execution_count": 53,
   "metadata": {
    "ExecuteTime": {
     "end_time": "2020-03-26T16:00:59.983274Z",
     "start_time": "2020-03-26T16:00:59.976870Z"
    }
   },
   "outputs": [],
   "source": [
    "def make_prediction(i, row, feature_tables):\n",
    "    \"\"\"\n",
    "        Makes predictions depending on the given feature table.\n",
    "        Parameters:\n",
    "            i: index of sample\n",
    "            row: row of test set dataframe\n",
    "            feature_table: probability tables for each feature \n",
    "    \"\"\"\n",
    "    \n",
    "    likelihoods = {label_class: 1 for label_class in label_classes}\n",
    "    predict_prior_probs = {label_class: 0 for label_class in label_classes}\n",
    "    predicted_probs = likelihoods.copy()\n",
    "    \n",
    "    for feature_name, feature_val in row.iteritems():\n",
    "        for sample_class, class_prior_prob in label_prob.iteritems():\n",
    "            likelihoods[sample_class] *= feature_tables[feature_name].loc[feature_val][sample_class]\n",
    "            predict_prior_probs[sample_class] += feature_prior_prob[feature_name][feature_val]\n",
    "            \n",
    "    # Calculate Feature Tables without Laplace Smoothing\n",
    "    for sample_class, class_prior_prob in label_prob.iteritems():\n",
    "        predicted_probs[sample_class] = (likelihoods[sample_class] * label_prob[sample_class]) / predict_prior_probs[sample_class]\n",
    "        print(\"\\tProbability of class '\" + sample_class+\"': \" + str(predicted_probs[sample_class]))\n",
    "    print(\"\\tPredicted class: '\" + max(predicted_probs, key=predicted_probs.get)+\"'\")"
   ]
  },
  {
   "cell_type": "markdown",
   "metadata": {},
   "source": [
    "### Making Predictions without Laplace Smoothing"
   ]
  },
  {
   "cell_type": "code",
   "execution_count": 51,
   "metadata": {
    "ExecuteTime": {
     "end_time": "2020-03-26T15:58:59.536663Z",
     "start_time": "2020-03-26T15:58:59.529601Z"
    }
   },
   "outputs": [
    {
     "name": "stdout",
     "output_type": "stream",
     "text": [
      "Making prediction on 0th sample:\n",
      "\tProbability of class 'junior': 0.01111111111111111\n",
      "\tProbability of class 'senior': 0.016000000000000004\n",
      "\tPredicted class: 'senior'\n",
      "\n",
      "Making prediction on 1th sample:\n",
      "\tProbability of class 'junior': 0.0\n",
      "\tProbability of class 'senior': 0.017777777777777785\n",
      "\tPredicted class: 'senior'\n",
      "\n"
     ]
    }
   ],
   "source": [
    "for i, row in test_df.iterrows():\n",
    "    print(\"Making prediction on \" + str(i) +\"th sample:\")\n",
    "    make_prediction(i, row, feature_tables)\n",
    "    print()"
   ]
  },
  {
   "cell_type": "markdown",
   "metadata": {},
   "source": [
    "### Making Predictions with Laplace Smoothing"
   ]
  },
  {
   "cell_type": "code",
   "execution_count": 52,
   "metadata": {
    "ExecuteTime": {
     "end_time": "2020-03-26T15:58:59.684206Z",
     "start_time": "2020-03-26T15:58:59.677125Z"
    }
   },
   "outputs": [
    {
     "name": "stdout",
     "output_type": "stream",
     "text": [
      "Making prediction on 0th sample:\n",
      "\tProbability of class 'junior': 0.021093749999999998\n",
      "\tProbability of class 'senior': 0.02623906705539358\n",
      "\tPredicted class: 'senior'\n",
      "\n",
      "Making prediction on 1th sample:\n",
      "\tProbability of class 'junior': 0.011718749999999998\n",
      "\tProbability of class 'senior': 0.029154518950437313\n",
      "\tPredicted class: 'senior'\n",
      "\n"
     ]
    }
   ],
   "source": [
    "for i, row in test_df.iterrows():\n",
    "    print(\"Making prediction on \" + str(i) +\"th sample:\")\n",
    "    make_prediction(i, row, feature_tables_with_ls)\n",
    "    print()"
   ]
  }
 ],
 "metadata": {
  "hide_input": false,
  "kernelspec": {
   "display_name": "ml",
   "language": "python",
   "name": "ml"
  },
  "language_info": {
   "codemirror_mode": {
    "name": "ipython",
    "version": 3
   },
   "file_extension": ".py",
   "mimetype": "text/x-python",
   "name": "python",
   "nbconvert_exporter": "python",
   "pygments_lexer": "ipython3",
   "version": "3.7.6"
  },
  "toc": {
   "base_numbering": 1,
   "nav_menu": {},
   "number_sections": true,
   "sideBar": true,
   "skip_h1_title": false,
   "title_cell": "Table of Contents",
   "title_sidebar": "Contents",
   "toc_cell": false,
   "toc_position": {},
   "toc_section_display": true,
   "toc_window_display": false
  },
  "varInspector": {
   "cols": {
    "lenName": 16,
    "lenType": 16,
    "lenVar": 40
   },
   "kernels_config": {
    "python": {
     "delete_cmd_postfix": "",
     "delete_cmd_prefix": "del ",
     "library": "var_list.py",
     "varRefreshCmd": "print(var_dic_list())"
    },
    "r": {
     "delete_cmd_postfix": ") ",
     "delete_cmd_prefix": "rm(",
     "library": "var_list.r",
     "varRefreshCmd": "cat(var_dic_list()) "
    }
   },
   "types_to_exclude": [
    "module",
    "function",
    "builtin_function_or_method",
    "instance",
    "_Feature"
   ],
   "window_display": false
  }
 },
 "nbformat": 4,
 "nbformat_minor": 4
}
