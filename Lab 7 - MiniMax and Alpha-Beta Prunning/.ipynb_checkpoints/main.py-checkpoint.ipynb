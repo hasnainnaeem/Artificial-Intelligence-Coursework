{
 "cells": [
  {
   "cell_type": "markdown",
   "metadata": {},
   "source": [
    "# Lab 7\n",
    "__Submitted By: M. Hasnain Naeem (212728) from BSCS-7B__"
   ]
  },
  {
   "cell_type": "code",
   "execution_count": 36,
   "metadata": {},
   "outputs": [],
   "source": [
    "# imports\n",
    "import math \n",
    "from anytree import Node, RenderTree, find_by_attr, LevelOrderIter"
   ]
  },
  {
   "cell_type": "markdown",
   "metadata": {},
   "source": [
    "## Loading the Tree"
   ]
  },
  {
   "cell_type": "code",
   "execution_count": 105,
   "metadata": {},
   "outputs": [
    {
     "name": "stdout",
     "output_type": "stream",
     "text": [
      "Loading the tree data.\n",
      "Printing tree:\n",
      "0\n",
      "├── 5\n",
      "│   ├── 9\n",
      "│   └── 12\n",
      "└── 2\n",
      "    ├── 11\n",
      "    │   └── 100\n",
      "    └── 10\n"
     ]
    }
   ],
   "source": [
    "print(\"Loading the tree data.\")\n",
    "print(\"Printing tree:\")\n",
    "# load tree from the file\n",
    "with open('tree_data.txt', 'r') as f:\n",
    "    # split the parent and child from the line\n",
    "    lines = f.readlines()[1:]\n",
    "    root = Node(lines[0].split(\" \")[0])\n",
    "    nodes = {}\n",
    "    nodes[root.name] = root\n",
    "    \n",
    "    # iterate the lines and get the tree\n",
    "    for line in lines:\n",
    "        line = line.split(\" \")\n",
    "        name = \"\".join(line[1:]).strip()\n",
    "        nodes[name] = Node(name, parent=nodes[line[0]])\n",
    "\n",
    "    for pre, _, node in RenderTree(root):\n",
    "        print(\"%s%s\" % (pre, node.name))"
   ]
  },
  {
   "cell_type": "code",
   "execution_count": 124,
   "metadata": {},
   "outputs": [
    {
     "name": "stdout",
     "output_type": "stream",
     "text": [
      "Tree node list using level order:\n",
      "[0.0, 5.0, 2.0, 9.0, 12.0, 11.0, 10.0, 100.0]\n"
     ]
    }
   ],
   "source": [
    "# get the level order list for the mini-max and alpha beta pruning algorithm\n",
    "node_list = [float(node.name) for node in LevelOrderIter(root)]\n",
    "print(\"Tree node list using level order:\")\n",
    "print(node_list)"
   ]
  },
  {
   "cell_type": "markdown",
   "metadata": {},
   "source": [
    "## Task 1 - MiniMax"
   ]
  },
  {
   "cell_type": "code",
   "execution_count": 125,
   "metadata": {},
   "outputs": [],
   "source": [
    "# minimax algorithm\n",
    "def minimax (curr_depth, node_index, max_turn, node_list, target_depth): \n",
    "    \n",
    "    # base case : target depth is reached \n",
    "    if curr_depth == target_depth:\n",
    "        return node_list[node_index] \n",
    "\n",
    "    if max_turn: \n",
    "        return max(\n",
    "            minimax(curr_depth + 1, node_index * 2, False, node_list, target_depth),  \n",
    "            minimax(curr_depth + 1, node_index * 2 + 1, False, node_list, target_depth)\n",
    "        ) \n",
    "\n",
    "    else: \n",
    "        return min(\n",
    "            minimax(curr_depth + 1, node_index * 2, True, node_list, target_depth),  \n",
    "            minimax(curr_depth + 1, node_index * 2 + 1, True, node_list, target_depth)\n",
    "        ) "
   ]
  },
  {
   "cell_type": "code",
   "execution_count": 126,
   "metadata": {},
   "outputs": [
    {
     "name": "stdout",
     "output_type": "stream",
     "text": [
      "Optimal Value: 12.0\n"
     ]
    }
   ],
   "source": [
    "# get depth\n",
    "tree_depth = math.log(len(node_list), 2) \n",
    "\n",
    "# run the algorithm\n",
    "optimal_val = minimax(0, 0, True, node_list, tree_depth)\n",
    "print(\"Optimal Value: \" + str(optimal_val))"
   ]
  },
  {
   "cell_type": "markdown",
   "metadata": {},
   "source": [
    "## Task 2 - Alpha-Beta Pruning"
   ]
  },
  {
   "cell_type": "code",
   "execution_count": 133,
   "metadata": {
    "code_folding": []
   },
   "outputs": [],
   "source": [
    "# Alpha Beta Prunning Algorithm\n",
    "MAX, MIN = math.inf, -math.inf\n",
    "\n",
    "def alpha_beta_prunning(depth, node_index, max_turn, node_list, alpha, beta):\n",
    "    \n",
    "    \"\"\"\n",
    "        Returns optimal value using alpha beta prunning\n",
    "    \"\"\"\n",
    "    \n",
    "    # base case\n",
    "    if depth == 3:  \n",
    "        return node_list[node_index]  \n",
    "    \n",
    "    # recursion case\n",
    "    if max_turn:  \n",
    "        \n",
    "        max_value = MIN \n",
    "        # check left and right children  \n",
    "        for i in range(0, 2):  \n",
    "              \n",
    "            cur_val = float(alpha_beta_prunning(depth + 1, node_index * 2 + i, False, node_list, alpha, beta)) \n",
    "            max_value = max(max_value, cur_val)  \n",
    "            alpha = max(alpha, max_value)  \n",
    "  \n",
    "            # Check pruning condition\n",
    "            if beta <= alpha:  \n",
    "                break \n",
    "                \n",
    "        return max_value\n",
    "       \n",
    "    else: \n",
    "        \n",
    "        min_value = MAX \n",
    "        # check for left andright children  \n",
    "        for i in range(0, 2):  \n",
    "            cur_val = float(alpha_beta_prunning(depth + 1, node_index * 2 + i, True, node_list, alpha, beta))\n",
    "            min_value = min(min_value, cur_val)  \n",
    "            beta = min(beta, min_value)  \n",
    "  \n",
    "            # Check pruning condition\n",
    "            if beta <= alpha:  \n",
    "                break \n",
    "           \n",
    "        return min_value  "
   ]
  },
  {
   "cell_type": "code",
   "execution_count": 134,
   "metadata": {},
   "outputs": [
    {
     "name": "stdout",
     "output_type": "stream",
     "text": [
      "Optimal Value: 12.0\n"
     ]
    }
   ],
   "source": [
    "optimal_val_abp = alpha_beta_prunning(0, 0, True, node_list, MIN, MAX)\n",
    "print(\"Optimal Value: \" + str(optimal_val_abp))"
   ]
  }
 ],
 "metadata": {
  "hide_input": false,
  "kernelspec": {
   "display_name": "Python 3",
   "language": "python",
   "name": "python3"
  },
  "language_info": {
   "codemirror_mode": {
    "name": "ipython",
    "version": 3
   },
   "file_extension": ".py",
   "mimetype": "text/x-python",
   "name": "python",
   "nbconvert_exporter": "python",
   "pygments_lexer": "ipython3",
   "version": "3.7.3"
  },
  "toc": {
   "base_numbering": 1,
   "nav_menu": {},
   "number_sections": true,
   "sideBar": true,
   "skip_h1_title": false,
   "title_cell": "Table of Contents",
   "title_sidebar": "Contents",
   "toc_cell": false,
   "toc_position": {},
   "toc_section_display": true,
   "toc_window_display": false
  },
  "varInspector": {
   "cols": {
    "lenName": 16,
    "lenType": 16,
    "lenVar": 40
   },
   "kernels_config": {
    "python": {
     "delete_cmd_postfix": "",
     "delete_cmd_prefix": "del ",
     "library": "var_list.py",
     "varRefreshCmd": "print(var_dic_list())"
    },
    "r": {
     "delete_cmd_postfix": ") ",
     "delete_cmd_prefix": "rm(",
     "library": "var_list.r",
     "varRefreshCmd": "cat(var_dic_list()) "
    }
   },
   "types_to_exclude": [
    "module",
    "function",
    "builtin_function_or_method",
    "instance",
    "_Feature"
   ],
   "window_display": false
  }
 },
 "nbformat": 4,
 "nbformat_minor": 1
}
